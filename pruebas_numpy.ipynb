{
 "cells": [
  {
   "cell_type": "code",
   "execution_count": 269,
   "metadata": {},
   "outputs": [],
   "source": [
    "import numpy as np"
   ]
  },
  {
   "cell_type": "code",
   "execution_count": 270,
   "metadata": {},
   "outputs": [],
   "source": [
    "def describe_array(array):\n",
    "    print(array)\n",
    "    print(\"clase: \"+str(type(array)))\n",
    "    print(\"elementos: \"+str(len(array)))\n",
    "    print(\"columnas x filas: \"+str(array.shape))\n",
    "    print(\"dimensiones: \"+str(array.ndim))\n",
    "    print(\"tipo de dato: \"+str(array.dtype))"
   ]
  },
  {
   "cell_type": "code",
   "execution_count": 271,
   "metadata": {},
   "outputs": [
    {
     "name": "stdout",
     "output_type": "stream",
     "text": [
      "[1. 2. 3. 4. 5.]\n",
      "clase: <class 'numpy.ndarray'>\n",
      "elementos: 5\n",
      "columnas x filas: (5,)\n",
      "dimensiones: 1\n",
      "tipo de dato: float32\n"
     ]
    }
   ],
   "source": [
    "# 1D array of 5 elements of type float32\n",
    "x = np.array([1, 2, 3, 4, 5], dtype=np.float32)\n",
    "describe_array(x)"
   ]
  },
  {
   "cell_type": "code",
   "execution_count": 272,
   "metadata": {},
   "outputs": [
    {
     "name": "stdout",
     "output_type": "stream",
     "text": [
      "[[1 2]\n",
      " [3 4]\n",
      " [5 6]]\n",
      "clase: <class 'numpy.ndarray'>\n",
      "elementos: 3\n",
      "columnas x filas: (3, 2)\n",
      "dimensiones: 2\n",
      "tipo de dato: int32\n"
     ]
    }
   ],
   "source": [
    "y = np.array([[1, 2, 3,], [4, 5, 6]])\n",
    "# 2 formas de cambiar entre columnas y filas\n",
    "y.shape = (3, 2)\n",
    "describe_array(y)"
   ]
  },
  {
   "cell_type": "code",
   "execution_count": 273,
   "metadata": {},
   "outputs": [
    {
     "name": "stdout",
     "output_type": "stream",
     "text": [
      "[[1 2 3]\n",
      " [4 5 6]]\n",
      "clase: <class 'numpy.ndarray'>\n",
      "elementos: 2\n",
      "columnas x filas: (2, 3)\n",
      "dimensiones: 2\n",
      "tipo de dato: int32\n"
     ]
    }
   ],
   "source": [
    "y = y.reshape(2, 3)\n",
    "describe_array(y)"
   ]
  },
  {
   "cell_type": "code",
   "execution_count": 274,
   "metadata": {},
   "outputs": [
    {
     "name": "stdout",
     "output_type": "stream",
     "text": [
      "2\n",
      "2\n",
      "[[3]\n",
      " [6]\n",
      " [9]]\n",
      "------------\n",
      "[3 6]\n",
      "------------\n",
      "[6 9]\n",
      "------------\n"
     ]
    }
   ],
   "source": [
    "z = np.array([[1, 2, 3], [4, 5, 6],[7, 8, 9]])\n",
    "# se puede acceder a los elementos de un array de la siguiente forma \n",
    "print(z[0, 1])\n",
    "# o de esta otra forma como con un array normal\n",
    "print(z[0][1])\n",
    "\n",
    "# se puede acceder a un rango de elementos de las siguientes formas\n",
    "print(z[0:3, 2:3]) # de la fila 0 a la 3 y de la columna 2 a la 3\n",
    "print(\"------------\")\n",
    "print(z[0:2, 2]) # de la fila 0 a la 2 y de la columna 2\n",
    "print(\"------------\")\n",
    "print(z[[1,2],2]) # de la fila 0 y 2 y de la columna 2\n",
    "print(\"------------\")"
   ]
  },
  {
   "cell_type": "code",
   "execution_count": 275,
   "metadata": {},
   "outputs": [
    {
     "name": "stdout",
     "output_type": "stream",
     "text": [
      "[[4 5 6]\n",
      " [1 2 3]\n",
      " [7 8 9]]\n"
     ]
    }
   ],
   "source": [
    "# prueba de intercambiar la fila 0 por la 1\n",
    "print(z[[1,0,2],:])"
   ]
  },
  {
   "cell_type": "code",
   "execution_count": 276,
   "metadata": {},
   "outputs": [
    {
     "name": "stdout",
     "output_type": "stream",
     "text": [
      "[[0. 0. 0. 0.]\n",
      " [0. 0. 0. 0.]\n",
      " [0. 0. 0. 0.]]\n",
      "clase: <class 'numpy.ndarray'>\n",
      "elementos: 3\n",
      "columnas x filas: (3, 4)\n",
      "dimensiones: 2\n",
      "tipo de dato: float64\n"
     ]
    }
   ],
   "source": [
    "# crear un array de 0s\n",
    "zeros = np.zeros((3, 4))\n",
    "describe_array(zeros)"
   ]
  },
  {
   "cell_type": "code",
   "execution_count": 277,
   "metadata": {},
   "outputs": [
    {
     "name": "stdout",
     "output_type": "stream",
     "text": [
      "[[1. 1. 1. 1.]\n",
      " [1. 1. 1. 1.]\n",
      " [1. 1. 1. 1.]]\n",
      "clase: <class 'numpy.ndarray'>\n",
      "elementos: 3\n",
      "columnas x filas: (3, 4)\n",
      "dimensiones: 2\n",
      "tipo de dato: float64\n"
     ]
    }
   ],
   "source": [
    "# crear un array de 1s\n",
    "unos = np.ones((3, 4))\n",
    "describe_array(unos)"
   ]
  },
  {
   "cell_type": "code",
   "execution_count": 278,
   "metadata": {},
   "outputs": [
    {
     "name": "stdout",
     "output_type": "stream",
     "text": [
      "[[5 5 5 5]\n",
      " [5 5 5 5]\n",
      " [5 5 5 5]]\n",
      "clase: <class 'numpy.ndarray'>\n",
      "elementos: 3\n",
      "columnas x filas: (3, 4)\n",
      "dimensiones: 2\n",
      "tipo de dato: int32\n"
     ]
    }
   ],
   "source": [
    "# crear un array de un numero concreto e int32\n",
    "numeros = np.full((3, 4), 5, dtype=np.int32)\n",
    "describe_array(numeros)"
   ]
  },
  {
   "cell_type": "code",
   "execution_count": 279,
   "metadata": {},
   "outputs": [
    {
     "name": "stdout",
     "output_type": "stream",
     "text": [
      "[[5. 5. 5. 5.]\n",
      " [5. 5. 5. 5.]\n",
      " [5. 5. 5. 5.]]\n",
      "clase: <class 'numpy.ndarray'>\n",
      "elementos: 3\n",
      "columnas x filas: (3, 4)\n",
      "dimensiones: 2\n",
      "tipo de dato: float32\n"
     ]
    }
   ],
   "source": [
    "# cambiar el tipo del array ya creado\n",
    "numeros = numeros.astype(np.float32)\n",
    "describe_array(numeros)"
   ]
  },
  {
   "cell_type": "code",
   "execution_count": 280,
   "metadata": {},
   "outputs": [
    {
     "name": "stdout",
     "output_type": "stream",
     "text": [
      "[[1. 0. 0.]\n",
      " [0. 1. 0.]\n",
      " [0. 0. 1.]]\n",
      "clase: <class 'numpy.ndarray'>\n",
      "elementos: 3\n",
      "columnas x filas: (3, 3)\n",
      "dimensiones: 2\n",
      "tipo de dato: float64\n"
     ]
    }
   ],
   "source": [
    "# crear una matriz de identidad de 3x3 https://es.wikipedia.org/wiki/Matriz_identidad\n",
    "prueba = np.eye(3)\n",
    "describe_array(prueba)"
   ]
  },
  {
   "cell_type": "code",
   "execution_count": 281,
   "metadata": {},
   "outputs": [
    {
     "name": "stdout",
     "output_type": "stream",
     "text": [
      "[[1 0 0 0]\n",
      " [0 2 0 0]\n",
      " [0 0 3 0]\n",
      " [0 0 0 4]]\n",
      "clase: <class 'numpy.ndarray'>\n",
      "elementos: 4\n",
      "columnas x filas: (4, 4)\n",
      "dimensiones: 2\n",
      "tipo de dato: int32\n"
     ]
    }
   ],
   "source": [
    "# crear un array de con numeros diferentes por la diagonal\n",
    "prueba = np.diag([1, 2, 3, 4])\n",
    "describe_array(prueba)"
   ]
  },
  {
   "cell_type": "code",
   "execution_count": 282,
   "metadata": {},
   "outputs": [
    {
     "name": "stdout",
     "output_type": "stream",
     "text": [
      "[10 12 14 16 18]\n",
      "clase: <class 'numpy.ndarray'>\n",
      "elementos: 5\n",
      "columnas x filas: (5,)\n",
      "dimensiones: 1\n",
      "tipo de dato: int32\n"
     ]
    }
   ],
   "source": [
    "# crear un array con numeros del 10 al 20 con saltos de 2\n",
    "arange = np.arange(10,20,2)\n",
    "describe_array(arange)"
   ]
  },
  {
   "cell_type": "code",
   "execution_count": 283,
   "metadata": {},
   "outputs": [
    {
     "name": "stdout",
     "output_type": "stream",
     "text": [
      "[0.   0.25 0.5  0.75 1.  ]\n",
      "clase: <class 'numpy.ndarray'>\n",
      "elementos: 5\n",
      "columnas x filas: (5,)\n",
      "dimensiones: 1\n",
      "tipo de dato: float64\n"
     ]
    }
   ],
   "source": [
    "# crear un array con numeros de igual espacio entre ellos\n",
    "linspace = np.linspace(0, 1, 5)\n",
    "describe_array(linspace)"
   ]
  },
  {
   "cell_type": "code",
   "execution_count": 317,
   "metadata": {},
   "outputs": [
    {
     "name": "stdout",
     "output_type": "stream",
     "text": [
      "6\n"
     ]
    }
   ],
   "source": [
    "# crear un numero aleatorio\n",
    "np.random.seed(42)\n",
    "random = np.random.randint(10)\n",
    "print(random)"
   ]
  },
  {
   "cell_type": "code",
   "execution_count": 318,
   "metadata": {},
   "outputs": [
    {
     "name": "stdout",
     "output_type": "stream",
     "text": [
      "[[29 15 43  8]\n",
      " [21 39 19 23]\n",
      " [11 11 24 36]]\n",
      "clase: <class 'numpy.ndarray'>\n",
      "elementos: 3\n",
      "columnas x filas: (3, 4)\n",
      "dimensiones: 2\n",
      "tipo de dato: int32\n"
     ]
    }
   ],
   "source": [
    "# crear un array de numeros aleatorios\n",
    "random = np.random.randint(1,50, size=(3, 4))\n",
    "describe_array(random)"
   ]
  },
  {
   "cell_type": "code",
   "execution_count": 321,
   "metadata": {},
   "outputs": [
    {
     "name": "stdout",
     "output_type": "stream",
     "text": [
      "[0.46676289 0.85994041 0.68030754 0.45049925 0.01326496 0.94220176\n",
      " 0.56328822 0.3854165  0.01596625 0.23089383]\n",
      "clase: <class 'numpy.ndarray'>\n",
      "elementos: 10\n",
      "columnas x filas: (10,)\n",
      "dimensiones: 1\n",
      "tipo de dato: float64\n"
     ]
    }
   ],
   "source": [
    "# crear un array de numeros aleatorios \n",
    "random = np.random.random(size=10)\n",
    "describe_array(random)"
   ]
  },
  {
   "cell_type": "code",
   "execution_count": 323,
   "metadata": {},
   "outputs": [
    {
     "name": "stdout",
     "output_type": "stream",
     "text": [
      "[57.20233245  4.10001595 84.38619268 45.5256592  40.11987336 92.73922771\n",
      " 72.99992759 33.32753611 57.47395347 52.56259174]\n",
      "clase: <class 'numpy.ndarray'>\n",
      "elementos: 10\n",
      "columnas x filas: (10,)\n",
      "dimensiones: 1\n",
      "tipo de dato: float64\n"
     ]
    }
   ],
   "source": [
    "# crear un array de numeros aleatorios uniformes\n",
    "random_uniform = np.random.uniform(1, 100, size=10)\n",
    "describe_array(random_uniform)"
   ]
  },
  {
   "cell_type": "code",
   "execution_count": 327,
   "metadata": {},
   "outputs": [
    {
     "name": "stdout",
     "output_type": "stream",
     "text": [
      "[1.79648106 1.59351688 1.71087118 1.71057636 1.79206667 1.67732775\n",
      " 1.76530483 1.81026875 1.51501971 1.81686312 1.60146182 1.59060596\n",
      " 1.41205431 1.61968223 1.69951431 1.66166767 1.65374731 1.58875026\n",
      " 1.78672295 1.79584138 1.74181185 1.5113472  1.92733452 1.71469747\n",
      " 1.75396092 1.55017044 1.69885566 1.74133541 1.68591014 1.78721619\n",
      " 1.83003451 1.56564762 1.78501206 1.739434   1.6995304  1.5429188\n",
      " 1.84798488 1.73967743 1.52167489 1.67568655 1.73272234 1.75065753\n",
      " 1.68723952 1.73415908 1.91188862 1.85465368 1.6050481  1.64031027\n",
      " 1.6888796  1.52509306 1.56585965 1.53783054 1.585228   1.83896028\n",
      " 1.61447595 1.59729382 1.78828377 1.65506956 1.74186395 1.62718208\n",
      " 1.5198112  1.74677171 1.54485661 1.64895068 1.62670489 1.71953465\n",
      " 1.64440551 1.68722652 1.54394429 1.90003481 1.57998683 1.82013804\n",
      " 1.71498337 1.71409074 1.73544196 1.51196874 1.7966392  1.64890555\n",
      " 1.82103986 1.6848764  1.66254784 1.57087839 1.62344906 1.74223138\n",
      " 1.56920857 1.50094005 1.61424511 1.78400054 1.87812911 1.63225843\n",
      " 1.54511713 1.66568709 1.71838555 1.75778971 1.91346412 1.72268488\n",
      " 1.86554616 1.65370746 1.70865658 1.64071173]\n",
      "clase: <class 'numpy.ndarray'>\n",
      "elementos: 100\n",
      "columnas x filas: (100,)\n",
      "dimensiones: 1\n",
      "tipo de dato: float64\n"
     ]
    }
   ],
   "source": [
    "# crear un array de numeros aleatorios con distribucion normal\n",
    "media = 1.70\n",
    "desviacion = 0.1\n",
    "random_normal = np.random.normal(media, desviacion, size=100)\n",
    "describe_array(random_normal)"
   ]
  },
  {
   "cell_type": "code",
   "execution_count": 328,
   "metadata": {},
   "outputs": [
    {
     "name": "stdout",
     "output_type": "stream",
     "text": [
      "media: 1.6872123529990335\n"
     ]
    }
   ],
   "source": [
    "print(\"media: \"+str(np.mean(random_normal)))"
   ]
  },
  {
   "cell_type": "code",
   "execution_count": 329,
   "metadata": {},
   "outputs": [
    {
     "name": "stdout",
     "output_type": "stream",
     "text": [
      "desviacion: 0.10803560448899031\n"
     ]
    }
   ],
   "source": [
    "print(\"desviacion: \"+str(np.std(random_normal)))"
   ]
  },
  {
   "cell_type": "code",
   "execution_count": 330,
   "metadata": {},
   "outputs": [
    {
     "name": "stdout",
     "output_type": "stream",
     "text": [
      "mediana: 1.6880595602954176\n"
     ]
    }
   ],
   "source": [
    "print(\"mediana: \"+str(np.median(random_normal)))"
   ]
  },
  {
   "cell_type": "code",
   "execution_count": 334,
   "metadata": {},
   "outputs": [
    {
     "name": "stdout",
     "output_type": "stream",
     "text": [
      "['cara' 'cruz' 'cruz' 'cruz' 'cara' 'cara' 'cruz' 'cara' 'cruz' 'cara'\n",
      " 'cruz' 'cruz' 'cara' 'cruz' 'cara' 'cruz' 'cruz' 'cara' 'cara' 'cara'\n",
      " 'cruz' 'cara' 'cruz' 'cruz' 'cara' 'cara' 'cruz' 'cruz' 'cara' 'cara'\n",
      " 'cara' 'cara' 'cara' 'cruz' 'cruz' 'cruz' 'cruz' 'cara' 'cara' 'cara'\n",
      " 'cruz' 'cruz' 'cara' 'cara' 'cruz' 'cruz' 'cara' 'cara' 'cruz' 'cara'\n",
      " 'cara' 'cara' 'cruz' 'cruz' 'cruz' 'cruz' 'cruz' 'cruz' 'cruz' 'cara'\n",
      " 'cara' 'cara' 'cara' 'cara' 'cara' 'cara' 'cruz' 'cruz' 'cara' 'cara'\n",
      " 'cruz' 'cara' 'cara' 'cruz' 'cara' 'cruz' 'cara' 'cruz' 'cruz' 'cruz'\n",
      " 'cara' 'cruz' 'cara' 'cara' 'cara' 'cara' 'cruz' 'cruz' 'cara' 'cara'\n",
      " 'cruz' 'cara' 'cruz' 'cara' 'cara' 'cruz' 'cara' 'cruz' 'cara' 'cara']\n",
      "clase: <class 'numpy.ndarray'>\n",
      "elementos: 100\n",
      "columnas x filas: (100,)\n",
      "dimensiones: 1\n",
      "tipo de dato: <U4\n"
     ]
    }
   ],
   "source": [
    "# crear un array de caras y cruzes de monedas\n",
    "monedas = np.random.choice([\"cara\", \"cruz\"], size=100)\n",
    "describe_array(monedas)"
   ]
  },
  {
   "cell_type": "code",
   "execution_count": 359,
   "metadata": {},
   "outputs": [
    {
     "name": "stdout",
     "output_type": "stream",
     "text": [
      "cara: 73\n"
     ]
    }
   ],
   "source": [
    "# contar el numero de caras \n",
    "print(\"cara: \"+str(sum(monedas == \"cara\")))"
   ]
  },
  {
   "cell_type": "code",
   "execution_count": 356,
   "metadata": {},
   "outputs": [
    {
     "name": "stdout",
     "output_type": "stream",
     "text": [
      "['cara' 'cara' 'cara' 'cara' 'cara' 'cara' 'cara' 'cara' 'cara' 'cara'\n",
      " 'cara' 'cara' 'cara' 'cara' 'cara' 'cara' 'cruz' 'cara' 'cara' 'cruz'\n",
      " 'cruz' 'cruz' 'cruz' 'cara' 'cara' 'cara' 'cara' 'cara' 'cara' 'cara'\n",
      " 'cruz' 'cruz' 'cara' 'cruz' 'cara' 'cruz' 'cara' 'cruz' 'cara' 'cara'\n",
      " 'cara' 'cara' 'cara' 'cara' 'cara' 'cara' 'cara' 'cruz' 'cara' 'cara'\n",
      " 'cara' 'cruz' 'cara' 'cruz' 'cruz' 'cara' 'cara' 'cruz' 'cruz' 'cara'\n",
      " 'cara' 'cruz' 'cara' 'cruz' 'cara' 'cara' 'cruz' 'cara' 'cara' 'cara'\n",
      " 'cara' 'cara' 'cara' 'cara' 'cruz' 'cara' 'cara' 'cara' 'cruz' 'cruz'\n",
      " 'cara' 'cara' 'cara' 'cruz' 'cruz' 'cara' 'cruz' 'cruz' 'cara' 'cara'\n",
      " 'cara' 'cara' 'cruz' 'cara' 'cara' 'cara' 'cara' 'cara' 'cara' 'cara']\n",
      "clase: <class 'numpy.ndarray'>\n",
      "elementos: 100\n",
      "columnas x filas: (100,)\n",
      "dimensiones: 1\n",
      "tipo de dato: <U4\n"
     ]
    }
   ],
   "source": [
    "# crear un array de cara y cruz con moneda trucada para que salga cara 70% de las veces\n",
    "monedas = np.random.choice([\"cara\", \"cruz\"], size=100, p=[0.7, 0.3])\n",
    "describe_array(monedas)"
   ]
  },
  {
   "cell_type": "code",
   "execution_count": 360,
   "metadata": {},
   "outputs": [
    {
     "name": "stdout",
     "output_type": "stream",
     "text": [
      "cara: 73\n"
     ]
    }
   ],
   "source": [
    "# contar el numero de caras \n",
    "print(\"cara: \"+str(sum(monedas == \"cara\")))"
   ]
  },
  {
   "cell_type": "code",
   "execution_count": 369,
   "metadata": {},
   "outputs": [
    {
     "name": "stdout",
     "output_type": "stream",
     "text": [
      "[13 49  2  5 44]\n",
      "maximo: 49\n",
      "minimo: 2\n"
     ]
    }
   ],
   "source": [
    "# mostrar maximos y minimos del array\n",
    "array = np.random.randint(1,50, size=5)\n",
    "print(array)\n",
    "print(\"maximo: \"+str(np.max(array)))\n",
    "print(\"minimo: \"+str(np.min(array)))"
   ]
  },
  {
   "cell_type": "code",
   "execution_count": 370,
   "metadata": {},
   "outputs": [
    {
     "name": "stdout",
     "output_type": "stream",
     "text": [
      "[[27 32 21  8]\n",
      " [38  8  3 44]\n",
      " [ 3 22  6  2]]\n",
      "maximo: [38 32 21 44]\n",
      "minimo: [8 3 2]\n"
     ]
    }
   ],
   "source": [
    "# mostrar maximos y minimos del array por filas y columnas\n",
    "array = np.random.randint(1,50, size=(3, 4))\n",
    "print(array)\n",
    "print(\"maximo: \"+str(np.max(array, axis=0)))\n",
    "print(\"minimo: \"+str(np.min(array, axis=1)))"
   ]
  },
  {
   "cell_type": "code",
   "execution_count": 391,
   "metadata": {},
   "outputs": [
    {
     "name": "stdout",
     "output_type": "stream",
     "text": [
      "[32 36 17 35 49 11 21 26  4 34]\n",
      "maximo: 49\n"
     ]
    }
   ],
   "source": [
    "# mostrar el valor maximo y minimo del array por filas y columnas\n",
    "array = np.random.randint(1,50, size=10)\n",
    "print(array)\n",
    "index = np.argmax(array, axis=0)\n",
    "print(\"maximo: \"+str(array[index]))\n"
   ]
  },
  {
   "cell_type": "code",
   "execution_count": 394,
   "metadata": {},
   "outputs": [
    {
     "name": "stdout",
     "output_type": "stream",
     "text": [
      "[[29 33 10 40 21]\n",
      " [28 11 34  8 22]]\n",
      "clase: <class 'numpy.ndarray'>\n",
      "elementos: 2\n",
      "columnas x filas: (2, 5)\n",
      "dimensiones: 2\n",
      "tipo de dato: int32\n"
     ]
    }
   ],
   "source": [
    "# crear 2 arrays y unirlos en uno verticalmente\n",
    "array1 = np.random.randint(1,50, size=5)\n",
    "array2 = np.random.randint(1,50, size=5)\n",
    "array3 = np.vstack((array1, array2))\n",
    "describe_array(array3)"
   ]
  },
  {
   "cell_type": "code",
   "execution_count": 405,
   "metadata": {},
   "outputs": [
    {
     "name": "stdout",
     "output_type": "stream",
     "text": [
      "[1 2 3 4 5 6 7 8 9]\n",
      "[False False False False  True  True  True  True  True]\n"
     ]
    }
   ],
   "source": [
    "# comprobar una condición sobre los elementos de un array y devolver un array de booleanos\n",
    "array = np.arange(1,10)\n",
    "print(array)\n",
    "\n",
    "mayores_4 = array > 4\n",
    "print(mayores_4)"
   ]
  },
  {
   "cell_type": "code",
   "execution_count": 406,
   "metadata": {},
   "outputs": [
    {
     "name": "stdout",
     "output_type": "stream",
     "text": [
      "[5 6 7 8 9]\n"
     ]
    }
   ],
   "source": [
    "print(array[mayores_4])"
   ]
  },
  {
   "cell_type": "code",
   "execution_count": null,
   "metadata": {},
   "outputs": [],
   "source": []
  },
  {
   "cell_type": "code",
   "execution_count": null,
   "metadata": {},
   "outputs": [],
   "source": []
  }
 ],
 "metadata": {
  "kernelspec": {
   "display_name": "bigdata",
   "language": "python",
   "name": "python3"
  },
  "language_info": {
   "codemirror_mode": {
    "name": "ipython",
    "version": 3
   },
   "file_extension": ".py",
   "mimetype": "text/x-python",
   "name": "python",
   "nbconvert_exporter": "python",
   "pygments_lexer": "ipython3",
   "version": "3.8.15 | packaged by conda-forge | (default, Nov 22 2022, 08:42:03) [MSC v.1929 64 bit (AMD64)]"
  },
  "orig_nbformat": 4,
  "vscode": {
   "interpreter": {
    "hash": "c856bdce93f024a275ddf649a1cfcd4005b389a65694e3249a99fc2d420958ee"
   }
  }
 },
 "nbformat": 4,
 "nbformat_minor": 2
}
